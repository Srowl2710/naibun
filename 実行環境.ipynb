{
 "cells": [
  {
   "cell_type": "code",
   "execution_count": 2,
   "id": "f0df5901",
   "metadata": {},
   "outputs": [],
   "source": [
    "import numpy as np\n",
    "import itertools as it\n",
    "\n",
    "#データの読み込み\n",
    "data = np.loadtxt('t=0.txt',skiprows=2) #'t=0.txt'を上２行をすっ飛ばして読む\n",
    "\n",
    "\n",
    "#データの仕分け\n",
    "freq_num = np.shape(data)[0] #周波数の数　データの縦列数 \n",
    "dataR = np.array(data[:,[1,3,5,7]]).T #実部データ　データの縦列2,4,6,8行目の抽出\n",
    "dataI = np.array(data[:,[2,4,6,8]]).T #虚部データ\n",
    "\n",
    "#組み合わせ導出\n",
    "numlist = [0,1,2,3] #データの数(電池の数)\n",
    "c2list = list(it.combinations(numlist,2)) #内分２つ 'c2list' means...-> combination 2 list\n",
    "\n",
    "\n",
    "#内分計算関数\n",
    "def calc_divide(ratio: tuple, data: tuple):\n",
    "        # ratio:(m,n),data:(A,B)\n",
    "        r, s = ratio\n",
    "        A, B = data\n",
    "        return (r * A + s * B) / (r + s)\n",
    "\n",
    "#計算(2つの場合)\n",
    "f2data = np.empty((0,31))\n",
    "for i,j in c2list:\n",
    "    for r in range(1,10): # r -> ratio 比率 1:9,2:8, ... , 8:2,9:1 の９通り\n",
    "        s = 10-r\n",
    "        f2dataR = calc_divide(                     #実部\n",
    "            (r, s), (dataR[i], dataR[j])\n",
    "        )\n",
    "        f2dataI = calc_divide(                     #虚部\n",
    "            (r, s), (dataI[i], dataI[j])\n",
    "        )\n",
    "        add = np.array([f2dataR,f2dataI])\n",
    "        f2data = np.vstack((f2data,add))\n",
    "np.savetxt('t=0の時の２点内分.txt',f2data,delimiter=\"\t\")"
   ]
  },
  {
   "cell_type": "code",
   "execution_count": null,
   "id": "0d328c6f",
   "metadata": {},
   "outputs": [],
   "source": []
  }
 ],
 "metadata": {
  "kernelspec": {
   "display_name": "Python 3 (ipykernel)",
   "language": "python",
   "name": "python3"
  },
  "language_info": {
   "codemirror_mode": {
    "name": "ipython",
    "version": 3
   },
   "file_extension": ".py",
   "mimetype": "text/x-python",
   "name": "python",
   "nbconvert_exporter": "python",
   "pygments_lexer": "ipython3",
   "version": "3.9.7"
  }
 },
 "nbformat": 4,
 "nbformat_minor": 5
}
